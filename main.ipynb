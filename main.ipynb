{
 "cells": [
  {
   "cell_type": "markdown",
   "metadata": {},
   "source": [
    "# Semantically chunking based on sliding token windows and similarity reversions (Sliding Tokens Similarity Reversion)\n",
    "\n",
    "This work is inteded to be an improvement on to of the semantic chunking work presented by [Greg Kamradt](https://twitter.com/GregKamradt), [previous work here.](https://github.com/FullStackRetrieval-com/RetrievalTutorials/blob/main/tutorials/LevelsOfTextSplitting/5_Levels_Of_Text_Splitting.ipynb)\n",
    "\n",
    "The goal of this algorithm is to have a dynamic way of distinguishing when chunks of text change semantic meaning. The algorithm must not use tunable parameters, be dynamic and not rely on Agentic Chunking [Greg Kamradts work explains agentic chunking as well](https://github.com/FullStackRetrieval-com/RetrievalTutorials/blob/main/tutorials/LevelsOfTextSplitting/5_Levels_Of_Text_Splitting.ipynb).\n",
    "\n",
    "The algorithm currently, creatively named \"Sliding Tokens Similarity Reversion\" achieves the goal, with good performance.\n",
    "\n",
    "The steps are rather simple:\n",
    "1. Tokenize an input text into a list of sentences\n",
    "2. Create a sliding window over this list of sentences, merging two sentences together (the last sentence of one window will be the beginning of the next window)\n",
    "3. Embed the new sliding tokens\n",
    "4. Calculate the cosine similarity between the tokens\n",
    "5. Using the cosine similarity, find the local minimum similarities and chunk based on those points\n",
    "6. Steps above can be repeated to increase chunk size\n",
    "\n",
    "Below is a figure showing the different steps. \n",
    "1. a0, b1, c2, are the naming for a sentence; a0 is the first sentence, b1 is the second sentence, c2 is the third sentence etc\n",
    "2. a0b1, b1c2 etc are the sliding token windows\n",
    "3. e0, e1, e2 are the embeddings of the sliding token windows\n",
    "3. S0, S1, S2 etc are the similarities calculated between the embeddings -> e0 * e1 = s0\n",
    "\n",
    "![Flow diagram](img/flow-diagram.png)\n",
    "\n",
    "\n",
    "The algorithm was created by [Nesbyte](https://github.com/nesbyte). Attributions are always welcome. Please feel free to provide feedback on improvements and/or usecases. MIT License.\n"
   ]
  },
  {
   "cell_type": "markdown",
   "metadata": {},
   "source": [
    "## Implementation and demonstration\n",
    "*NOTE: This notebook implementation relies on [Ollama](https://ollama.com/) and uses [nomic-embed-text](https://ollama.com/library/nomic-embed-text) to perform the embeddings.*"
   ]
  },
  {
   "cell_type": "code",
   "execution_count": 1,
   "metadata": {},
   "outputs": [
    {
     "name": "stderr",
     "output_type": "stream",
     "text": [
      "[nltk_data] Downloading package punkt to /home/stein/nltk_data...\n",
      "[nltk_data]   Package punkt is already up-to-date!\n"
     ]
    }
   ],
   "source": [
    "import requests as rq\n",
    "import nltk\n",
    "nltk.download(\"punkt\")\n",
    "\n",
    "import json\n",
    "from sklearn.metrics import pairwise\n",
    "import numpy as np\n",
    "\n",
    "from colorama import Fore"
   ]
  },
  {
   "cell_type": "code",
   "execution_count": 2,
   "metadata": {},
   "outputs": [],
   "source": [
    "# Helper funtion used to print the results in a more colourful output\n",
    "def print_chunks_coloured(chunks: list[str]) -> str:\n",
    "    colour_flag = True\n",
    "\n",
    "    for chunk in chunks:\n",
    "        if colour_flag:\n",
    "            colour = Fore.BLUE\n",
    "        else:\n",
    "            colour = Fore.GREEN\n",
    "\n",
    "        colour_flag = not colour_flag\n",
    "\n",
    "        print(f\"{colour}{chunk}{Fore.RESET}\")\n",
    "    "
   ]
  },
  {
   "cell_type": "markdown",
   "metadata": {},
   "source": [
    "A piece from [Wikipedia Brazil page](https://en.wikipedia.org/wiki/Brazil)\n",
    "Informational bodies of text is arguably the most interesting types of content to handle well. The text has been put into one big block on purpose to make the algorithm have full control over finding the semantic chunks. **More examples of different styles of text are shown at the end of the notebook**"
   ]
  },
  {
   "cell_type": "code",
   "execution_count": 3,
   "metadata": {},
   "outputs": [],
   "source": [
    "input_text = \"\"\"Brazil, officially the Federative Republic of Brazil, is the largest and easternmost country in South America and Latin America. Brazil is the world's fifth-largest country by area and the seventh most populous. Its capital is Brasília, and its most populous city is São Paulo. Brazil is a federation composed of 26 states and a Federal District. It is the only country in the Americas where Portuguese is an official language. Brazil is among the world's most multicultural and ethnically diverse nations, due to over a century of mass immigration from around the world. Bounded by the Atlantic Ocean on the east, Brazil has a coastline of 7,491 kilometers (4,655 mi). Covering roughly half of South America's land area, it borders all other countries and territories on the continent except Ecuador and Chile. Brazil's Amazon basin includes a vast tropical forest home to diverse wildlife, a variety of ecological systems, and extensive natural resources spanning numerous protected habitats. This unique environmental heritage positions Brazil at number one of 17 megadiverse countries. The country's natural richness is also the subject of significant global interest, as environmental degradation (through processes such as deforestation) has direct impacts on global issues such as climate change and biodiversity loss. The territory of present-day Brazil was inhabited by numerous tribal nations prior to the landing of explorer Pedro Álvares Cabral in 1500. Subsequently claimed by the Portuguese Empire, Brazil remained a Portuguese colony until 1808, when the capital of the empire was transferred from Lisbon to Rio de Janeiro. In 1815, the colony was elevated to the rank of kingdom upon the formation of the United Kingdom of Portugal, Brazil and the Algarves. Independence was achieved in 1822 with the creation of the Empire of Brazil, a unitary state governed under a constitutional monarchy and a parliamentary system. The ratification of the first constitution in 1824 led to the formation of a bicameral legislature, now called the National Congress. Slavery was abolished in 1888. The country became a presidential republic in 1889 following a military coup d'état. An authoritarian military dictatorship emerged in 1964 and ruled until 1985, after which civilian governance resumed. Brazil's current constitution, formulated in 1988, defines it as a democratic federal republic. Due to its rich culture and history, the country ranks thirteenth in the world by number of UNESCO World Heritage Sites.\n",
    "\"\"\""
   ]
  },
  {
   "cell_type": "markdown",
   "metadata": {},
   "source": [
    "### Tokenize the text into sentences"
   ]
  },
  {
   "cell_type": "code",
   "execution_count": 4,
   "metadata": {},
   "outputs": [],
   "source": [
    "tokens = nltk.sent_tokenize(input_text, language=\"english\")\n",
    "# tokens"
   ]
  },
  {
   "cell_type": "markdown",
   "metadata": {},
   "source": [
    "### Sliding window functionality is one of the two important steps of the algorithm\n",
    "\n",
    "Image below for visualization of the process."
   ]
  },
  {
   "cell_type": "code",
   "execution_count": 5,
   "metadata": {},
   "outputs": [],
   "source": [
    "def create_sliding_windows(tokens: list[str]) -> list[str]:\n",
    "    i = 0\n",
    "    embedding_tokens = []\n",
    "    while i < len(tokens):\n",
    "        if i >= len(tokens):\n",
    "            break \n",
    "\n",
    "        k = i+2\n",
    "        if k >= len(tokens):\n",
    "            k = len(tokens)\n",
    "\n",
    "        o = \" \".join(tokens[i:k])\n",
    "        embedding_tokens.append(o)\n",
    "        \n",
    "        i +=1\n",
    "    \n",
    "    return embedding_tokens\n",
    "\n",
    "tokens_for_embedding = create_sliding_windows(tokens)\n",
    "# tokens_for_embedding"
   ]
  },
  {
   "cell_type": "markdown",
   "metadata": {},
   "source": [
    "\n",
    "### Generic implementation of calculating the embeddings of the tokens\n",
    "The specifics of embeddings isn't important here. Follow best practices in order to chose the right embedding model for the intended application."
   ]
  },
  {
   "cell_type": "code",
   "execution_count": 6,
   "metadata": {},
   "outputs": [],
   "source": [
    "def calculate_embeddings(tokens: list[str]) -> list[np.ndarray]:\n",
    "    promptStruct = {\n",
    "    \"model\": \"nomic-embed-text\",\n",
    "    \"prompt\": \"\"\n",
    "    }\n",
    "\n",
    "    embeddings = []\n",
    "    for token in tokens:\n",
    "        promptStruct[\"prompt\"] = token\n",
    "        resp = rq.post(\"http://localhost:11434/api/embeddings\", data=json.dumps(promptStruct))\n",
    "        if resp.status_code != 200:\n",
    "            raise Exception(\"Embedding response failed\")\n",
    "\n",
    "        embeddings.append(np.array(resp.json()[\"embedding\"]))\n",
    "    \n",
    "    return embeddings\n",
    "\n",
    "token_embeddings = calculate_embeddings(tokens_for_embedding)"
   ]
  },
  {
   "cell_type": "markdown",
   "metadata": {},
   "source": [
    "### Generic implementation of calculating the cosine similarity between the embeddings\n",
    "The specifics of the cosine similarity is not critical either. Other similarity functions may be used as well, however has not been tested."
   ]
  },
  {
   "cell_type": "code",
   "execution_count": 7,
   "metadata": {},
   "outputs": [],
   "source": [
    "def calculate_similarities(embeddings) -> list[float]:\n",
    "    similarities = []\n",
    "\n",
    "    for i, e in enumerate(embeddings[:-1]):\n",
    "        sim = pairwise.cosine_similarity([e], [embeddings[i+1]])\n",
    "        similarities.append(sim[0][0])\n",
    "\n",
    "    # Add two fake similarities to allow for the ending to be included\n",
    "    # 1 are used to force a split to happen if a local minmum has not been\n",
    "    # detected yet.\n",
    "    similarities.append(1)\n",
    "    similarities.append(1)\n",
    "\n",
    "    return similarities\n",
    "\n",
    "cos_similarities = calculate_similarities(token_embeddings)"
   ]
  },
  {
   "cell_type": "code",
   "execution_count": 8,
   "metadata": {},
   "outputs": [
    {
     "name": "stdout",
     "output_type": "stream",
     "text": [
      "\t\t Brazil, officially the Federative Republic of Brazil, is the largest and easternmost country in South America and Latin America. Brazil is the world's fifth-largest country by area and the seventh most populous.\n",
      "0.9292469943847795\n",
      "\t\t Brazil is the world's fifth-largest country by area and the seventh most populous. Its capital is Brasília, and its most populous city is São Paulo.\n",
      "\n",
      "\t\t Brazil is the world's fifth-largest country by area and the seventh most populous. Its capital is Brasília, and its most populous city is São Paulo.\n",
      "0.9103549635932817\n",
      "\t\t Its capital is Brasília, and its most populous city is São Paulo. Brazil is a federation composed of 26 states and a Federal District.\n",
      "\n",
      "\t\t Its capital is Brasília, and its most populous city is São Paulo. Brazil is a federation composed of 26 states and a Federal District.\n",
      "0.867718675215865\n",
      "\t\t Brazil is a federation composed of 26 states and a Federal District. It is the only country in the Americas where Portuguese is an official language.\n",
      "\n",
      "\t\t Brazil is a federation composed of 26 states and a Federal District. It is the only country in the Americas where Portuguese is an official language.\n",
      "0.8972986298625071\n",
      "\t\t It is the only country in the Americas where Portuguese is an official language. Brazil is among the world's most multicultural and ethnically diverse nations, due to over a century of mass immigration from around the world.\n",
      "\n",
      "\t\t It is the only country in the Americas where Portuguese is an official language. Brazil is among the world's most multicultural and ethnically diverse nations, due to over a century of mass immigration from around the world.\n",
      "0.8691236411436567\n",
      "\t\t Brazil is among the world's most multicultural and ethnically diverse nations, due to over a century of mass immigration from around the world. Bounded by the Atlantic Ocean on the east, Brazil has a coastline of 7,491 kilometers (4,655 mi).\n",
      "\n",
      "\t\t Brazil is among the world's most multicultural and ethnically diverse nations, due to over a century of mass immigration from around the world. Bounded by the Atlantic Ocean on the east, Brazil has a coastline of 7,491 kilometers (4,655 mi).\n",
      "0.8916884394938804\n",
      "\t\t Bounded by the Atlantic Ocean on the east, Brazil has a coastline of 7,491 kilometers (4,655 mi). Covering roughly half of South America's land area, it borders all other countries and territories on the continent except Ecuador and Chile.\n",
      "\n",
      "\t\t Bounded by the Atlantic Ocean on the east, Brazil has a coastline of 7,491 kilometers (4,655 mi). Covering roughly half of South America's land area, it borders all other countries and territories on the continent except Ecuador and Chile.\n",
      "0.8482076650060066\n",
      "\t\t Covering roughly half of South America's land area, it borders all other countries and territories on the continent except Ecuador and Chile. Brazil's Amazon basin includes a vast tropical forest home to diverse wildlife, a variety of ecological systems, and extensive natural resources spanning numerous protected habitats.\n",
      "\n",
      "\t\t Covering roughly half of South America's land area, it borders all other countries and territories on the continent except Ecuador and Chile. Brazil's Amazon basin includes a vast tropical forest home to diverse wildlife, a variety of ecological systems, and extensive natural resources spanning numerous protected habitats.\n",
      "0.8901142862004718\n",
      "\t\t Brazil's Amazon basin includes a vast tropical forest home to diverse wildlife, a variety of ecological systems, and extensive natural resources spanning numerous protected habitats. This unique environmental heritage positions Brazil at number one of 17 megadiverse countries.\n",
      "\n",
      "\t\t Brazil's Amazon basin includes a vast tropical forest home to diverse wildlife, a variety of ecological systems, and extensive natural resources spanning numerous protected habitats. This unique environmental heritage positions Brazil at number one of 17 megadiverse countries.\n",
      "0.8818073145275276\n",
      "\t\t This unique environmental heritage positions Brazil at number one of 17 megadiverse countries. The country's natural richness is also the subject of significant global interest, as environmental degradation (through processes such as deforestation) has direct impacts on global issues such as climate change and biodiversity loss.\n",
      "\n",
      "\t\t This unique environmental heritage positions Brazil at number one of 17 megadiverse countries. The country's natural richness is also the subject of significant global interest, as environmental degradation (through processes such as deforestation) has direct impacts on global issues such as climate change and biodiversity loss.\n",
      "0.8813182402489144\n",
      "\t\t The country's natural richness is also the subject of significant global interest, as environmental degradation (through processes such as deforestation) has direct impacts on global issues such as climate change and biodiversity loss. The territory of present-day Brazil was inhabited by numerous tribal nations prior to the landing of explorer Pedro Álvares Cabral in 1500.\n",
      "\n",
      "\t\t The country's natural richness is also the subject of significant global interest, as environmental degradation (through processes such as deforestation) has direct impacts on global issues such as climate change and biodiversity loss. The territory of present-day Brazil was inhabited by numerous tribal nations prior to the landing of explorer Pedro Álvares Cabral in 1500.\n",
      "0.8382054694897476\n",
      "\t\t The territory of present-day Brazil was inhabited by numerous tribal nations prior to the landing of explorer Pedro Álvares Cabral in 1500. Subsequently claimed by the Portuguese Empire, Brazil remained a Portuguese colony until 1808, when the capital of the empire was transferred from Lisbon to Rio de Janeiro.\n",
      "\n",
      "\t\t The territory of present-day Brazil was inhabited by numerous tribal nations prior to the landing of explorer Pedro Álvares Cabral in 1500. Subsequently claimed by the Portuguese Empire, Brazil remained a Portuguese colony until 1808, when the capital of the empire was transferred from Lisbon to Rio de Janeiro.\n",
      "0.8968982971675874\n",
      "\t\t Subsequently claimed by the Portuguese Empire, Brazil remained a Portuguese colony until 1808, when the capital of the empire was transferred from Lisbon to Rio de Janeiro. In 1815, the colony was elevated to the rank of kingdom upon the formation of the United Kingdom of Portugal, Brazil and the Algarves.\n",
      "\n",
      "\t\t Subsequently claimed by the Portuguese Empire, Brazil remained a Portuguese colony until 1808, when the capital of the empire was transferred from Lisbon to Rio de Janeiro. In 1815, the colony was elevated to the rank of kingdom upon the formation of the United Kingdom of Portugal, Brazil and the Algarves.\n",
      "0.9046617986957703\n",
      "\t\t In 1815, the colony was elevated to the rank of kingdom upon the formation of the United Kingdom of Portugal, Brazil and the Algarves. Independence was achieved in 1822 with the creation of the Empire of Brazil, a unitary state governed under a constitutional monarchy and a parliamentary system.\n",
      "\n",
      "\t\t In 1815, the colony was elevated to the rank of kingdom upon the formation of the United Kingdom of Portugal, Brazil and the Algarves. Independence was achieved in 1822 with the creation of the Empire of Brazil, a unitary state governed under a constitutional monarchy and a parliamentary system.\n",
      "0.883582649907767\n",
      "\t\t Independence was achieved in 1822 with the creation of the Empire of Brazil, a unitary state governed under a constitutional monarchy and a parliamentary system. The ratification of the first constitution in 1824 led to the formation of a bicameral legislature, now called the National Congress.\n",
      "\n",
      "\t\t Independence was achieved in 1822 with the creation of the Empire of Brazil, a unitary state governed under a constitutional monarchy and a parliamentary system. The ratification of the first constitution in 1824 led to the formation of a bicameral legislature, now called the National Congress.\n",
      "0.8406805929192738\n",
      "\t\t The ratification of the first constitution in 1824 led to the formation of a bicameral legislature, now called the National Congress. Slavery was abolished in 1888.\n",
      "\n",
      "\t\t The ratification of the first constitution in 1824 led to the formation of a bicameral legislature, now called the National Congress. Slavery was abolished in 1888.\n",
      "0.8235340339993227\n",
      "\t\t Slavery was abolished in 1888. The country became a presidential republic in 1889 following a military coup d'état.\n",
      "\n",
      "\t\t Slavery was abolished in 1888. The country became a presidential republic in 1889 following a military coup d'état.\n",
      "0.8547766520739373\n",
      "\t\t The country became a presidential republic in 1889 following a military coup d'état. An authoritarian military dictatorship emerged in 1964 and ruled until 1985, after which civilian governance resumed.\n",
      "\n",
      "\t\t The country became a presidential republic in 1889 following a military coup d'état. An authoritarian military dictatorship emerged in 1964 and ruled until 1985, after which civilian governance resumed.\n",
      "0.8404476044532924\n",
      "\t\t An authoritarian military dictatorship emerged in 1964 and ruled until 1985, after which civilian governance resumed. Brazil's current constitution, formulated in 1988, defines it as a democratic federal republic.\n",
      "\n",
      "\t\t An authoritarian military dictatorship emerged in 1964 and ruled until 1985, after which civilian governance resumed. Brazil's current constitution, formulated in 1988, defines it as a democratic federal republic.\n",
      "0.8281633025837338\n",
      "\t\t Brazil's current constitution, formulated in 1988, defines it as a democratic federal republic. Due to its rich culture and history, the country ranks thirteenth in the world by number of UNESCO World Heritage Sites.\n",
      "\n",
      "\t\t Brazil's current constitution, formulated in 1988, defines it as a democratic federal republic. Due to its rich culture and history, the country ranks thirteenth in the world by number of UNESCO World Heritage Sites.\n",
      "0.7770440354165797\n",
      "\t\t Due to its rich culture and history, the country ranks thirteenth in the world by number of UNESCO World Heritage Sites.\n",
      "\n"
     ]
    }
   ],
   "source": [
    "# Only used for some visualization of the similarities vs tokens\n",
    "# Prints out the similarities of the string and next string below it\n",
    "# First similarity is the cosine similarity of the string at the same row, and the row below it\n",
    "for i, _ in enumerate(tokens_for_embedding[:-1]):\n",
    "    print(\"\\t\\t\", tokens_for_embedding[i])\n",
    "    print(cos_similarities[i])\n",
    "    print(\"\\t\\t\",tokens_for_embedding[i+1])\n",
    "    print()"
   ]
  },
  {
   "cell_type": "markdown",
   "metadata": {},
   "source": [
    "### Building the new chunks\n",
    "\n",
    "The goal here is to detect the local minimums and separate based on the local minimums. Then in order to know where the overlapping portion of the tokens go, the comparison is made between the previous and next similarity. The higher similarity combination get's the overlapping token as well."
   ]
  },
  {
   "cell_type": "code",
   "execution_count": 9,
   "metadata": {},
   "outputs": [],
   "source": [
    "# The delimiter is the delimiter placed between the different tokens merged together.\n",
    "# In production it is recommended to use a single space as the delimiter\n",
    "# For the purposes of the demonstration, a new line character is used instead.\n",
    "DELIMITER = \"\\n\""
   ]
  },
  {
   "cell_type": "code",
   "execution_count": 10,
   "metadata": {},
   "outputs": [],
   "source": [
    "def build_chunks(similarities: list[float], tokens: list[str]) -> list[str]:\n",
    "    chunks = []\n",
    "    chunk = f\"{tokens[0]}\"\n",
    "    i = 1\n",
    "    while i < len(similarities)-1:\n",
    "        \n",
    "        last_s = similarities[i-1]\n",
    "        current_s = similarities[i]\n",
    "        next_s = similarities[i+1]\n",
    "        \n",
    "        chunk = f\"{chunk}{DELIMITER}{tokens[i]}\"\n",
    "\n",
    "        if last_s > current_s and next_s > current_s:\n",
    "\n",
    "            # Key difference from overlapping approach, \n",
    "            # compare the previous vs the next similarities\n",
    "            if last_s > next_s:\n",
    "                chunk = f\"{chunk}{DELIMITER}{tokens[i+1]}\"\n",
    "                chunks.append(chunk)\n",
    "                i += 1 # Add the 1 to skip the next adding the next chunk\n",
    "            else:\n",
    "                chunks.append(chunk)\n",
    "            \n",
    "\n",
    "            chunk = f\"\"\n",
    "        \n",
    "        i += 1\n",
    "            \n",
    "    chunks.append(chunk)\n",
    "\n",
    "    return chunks\n",
    "\n",
    "chunks = build_chunks(cos_similarities, tokens)"
   ]
  },
  {
   "cell_type": "code",
   "execution_count": 11,
   "metadata": {},
   "outputs": [
    {
     "name": "stdout",
     "output_type": "stream",
     "text": [
      "\u001b[34mBrazil, officially the Federative Republic of Brazil, is the largest and easternmost country in South America and Latin America.\n",
      "Brazil is the world's fifth-largest country by area and the seventh most populous.\n",
      "Its capital is Brasília, and its most populous city is São Paulo.\n",
      "Brazil is a federation composed of 26 states and a Federal District.\u001b[39m\n",
      "\u001b[32m\n",
      "It is the only country in the Americas where Portuguese is an official language.\n",
      "Brazil is among the world's most multicultural and ethnically diverse nations, due to over a century of mass immigration from around the world.\u001b[39m\n",
      "\u001b[34m\n",
      "Bounded by the Atlantic Ocean on the east, Brazil has a coastline of 7,491 kilometers (4,655 mi).\n",
      "Covering roughly half of South America's land area, it borders all other countries and territories on the continent except Ecuador and Chile.\u001b[39m\n",
      "\u001b[32m\n",
      "Brazil's Amazon basin includes a vast tropical forest home to diverse wildlife, a variety of ecological systems, and extensive natural resources spanning numerous protected habitats.\n",
      "This unique environmental heritage positions Brazil at number one of 17 megadiverse countries.\n",
      "The country's natural richness is also the subject of significant global interest, as environmental degradation (through processes such as deforestation) has direct impacts on global issues such as climate change and biodiversity loss.\u001b[39m\n",
      "\u001b[34m\n",
      "The territory of present-day Brazil was inhabited by numerous tribal nations prior to the landing of explorer Pedro Álvares Cabral in 1500.\n",
      "Subsequently claimed by the Portuguese Empire, Brazil remained a Portuguese colony until 1808, when the capital of the empire was transferred from Lisbon to Rio de Janeiro.\n",
      "In 1815, the colony was elevated to the rank of kingdom upon the formation of the United Kingdom of Portugal, Brazil and the Algarves.\n",
      "Independence was achieved in 1822 with the creation of the Empire of Brazil, a unitary state governed under a constitutional monarchy and a parliamentary system.\n",
      "The ratification of the first constitution in 1824 led to the formation of a bicameral legislature, now called the National Congress.\u001b[39m\n",
      "\u001b[32m\n",
      "Slavery was abolished in 1888.\n",
      "The country became a presidential republic in 1889 following a military coup d'état.\n",
      "An authoritarian military dictatorship emerged in 1964 and ruled until 1985, after which civilian governance resumed.\n",
      "Brazil's current constitution, formulated in 1988, defines it as a democratic federal republic.\u001b[39m\n",
      "\u001b[34m\n",
      "Due to its rich culture and history, the country ranks thirteenth in the world by number of UNESCO World Heritage Sites.\u001b[39m\n"
     ]
    }
   ],
   "source": [
    "print_chunks_coloured(chunks)"
   ]
  },
  {
   "cell_type": "markdown",
   "metadata": {},
   "source": [
    "### The algorithm can be used recursively to increase chunk size\n",
    "If a larger chunk size is needed, the algorithm can be recursively run on itself.  \n",
    "It is however important to remember that the purpose of chunking is to keep the semantic context similar within the chunk. The chunks are meant to be split in a way which allows for easy retreival to provide enhanced **context** further down the pipeline. Although the algorithm can run on itself, that may not always be necessary or desired."
   ]
  },
  {
   "cell_type": "code",
   "execution_count": 12,
   "metadata": {},
   "outputs": [
    {
     "name": "stdout",
     "output_type": "stream",
     "text": [
      "\u001b[34mBrazil, officially the Federative Republic of Brazil, is the largest and easternmost country in South America and Latin America.\n",
      "Brazil is the world's fifth-largest country by area and the seventh most populous.\n",
      "Its capital is Brasília, and its most populous city is São Paulo.\n",
      "Brazil is a federation composed of 26 states and a Federal District.\n",
      "\n",
      "It is the only country in the Americas where Portuguese is an official language.\n",
      "Brazil is among the world's most multicultural and ethnically diverse nations, due to over a century of mass immigration from around the world.\u001b[39m\n",
      "\u001b[32m\n",
      "\n",
      "Bounded by the Atlantic Ocean on the east, Brazil has a coastline of 7,491 kilometers (4,655 mi).\n",
      "Covering roughly half of South America's land area, it borders all other countries and territories on the continent except Ecuador and Chile.\n",
      "\n",
      "Brazil's Amazon basin includes a vast tropical forest home to diverse wildlife, a variety of ecological systems, and extensive natural resources spanning numerous protected habitats.\n",
      "This unique environmental heritage positions Brazil at number one of 17 megadiverse countries.\n",
      "The country's natural richness is also the subject of significant global interest, as environmental degradation (through processes such as deforestation) has direct impacts on global issues such as climate change and biodiversity loss.\n",
      "\n",
      "The territory of present-day Brazil was inhabited by numerous tribal nations prior to the landing of explorer Pedro Álvares Cabral in 1500.\n",
      "Subsequently claimed by the Portuguese Empire, Brazil remained a Portuguese colony until 1808, when the capital of the empire was transferred from Lisbon to Rio de Janeiro.\n",
      "In 1815, the colony was elevated to the rank of kingdom upon the formation of the United Kingdom of Portugal, Brazil and the Algarves.\n",
      "Independence was achieved in 1822 with the creation of the Empire of Brazil, a unitary state governed under a constitutional monarchy and a parliamentary system.\n",
      "The ratification of the first constitution in 1824 led to the formation of a bicameral legislature, now called the National Congress.\u001b[39m\n",
      "\u001b[34m\n",
      "\n",
      "Slavery was abolished in 1888.\n",
      "The country became a presidential republic in 1889 following a military coup d'état.\n",
      "An authoritarian military dictatorship emerged in 1964 and ruled until 1985, after which civilian governance resumed.\n",
      "Brazil's current constitution, formulated in 1988, defines it as a democratic federal republic.\u001b[39m\n",
      "\u001b[32m\n",
      "\n",
      "Due to its rich culture and history, the country ranks thirteenth in the world by number of UNESCO World Heritage Sites.\u001b[39m\n"
     ]
    }
   ],
   "source": [
    "recalculated_tokens_for_embedding = create_sliding_windows(chunks)\n",
    "\n",
    "recalculated_token_embeddings = calculate_embeddings(recalculated_tokens_for_embedding)\n",
    "\n",
    "recalculated_cos_similarities = calculate_similarities(recalculated_token_embeddings)\n",
    "\n",
    "chunks = build_chunks(recalculated_cos_similarities, chunks)\n",
    "\n",
    "print_chunks_coloured(chunks)"
   ]
  },
  {
   "cell_type": "markdown",
   "metadata": {},
   "source": [
    "#### EXTRA: A variation of the algorithm if overlap is needed\n",
    "Overlap between chunks is often used to preserve cross-chunk context. Conceptually, overlap should not be necessary if the chunk and it's context is correctly calculated.  \n",
    "The algorithm should not need an overlap due to it fundamentally being intended to chunk together relevant items, however if overlap is necessary - a variation of the algorithm\n",
    "is provided below."
   ]
  },
  {
   "cell_type": "code",
   "execution_count": 13,
   "metadata": {},
   "outputs": [],
   "source": [
    "def build_chunks_with_overlapping(similarities: list[float], tokens: list[str]) -> list[str]:\n",
    "    chunks = []\n",
    "    chunk = f\"{tokens[0]}\"\n",
    "    i = 1\n",
    "    while i < len(similarities)-1:\n",
    "        \n",
    "        last_s = similarities[i-1]\n",
    "        current_s = similarities[i]\n",
    "        next_s = similarities[i+1]\n",
    "        \n",
    "        chunk = f\"{chunk}{DELIMITER}{tokens[i]}\"\n",
    "\n",
    "        if last_s > current_s and next_s > current_s:\n",
    "            chunk = f\"{chunk}{DELIMITER}{tokens[i+1]}\"\n",
    "            chunks.append(chunk)\n",
    "\n",
    "            chunk = f\"\"\n",
    "        \n",
    "        i += 1\n",
    "            \n",
    "    chunks.append(chunk)\n",
    "\n",
    "    return chunks\n",
    "\n",
    "chunks_with_overlap = build_chunks_with_overlapping(cos_similarities, tokens)"
   ]
  },
  {
   "cell_type": "code",
   "execution_count": 14,
   "metadata": {},
   "outputs": [
    {
     "name": "stdout",
     "output_type": "stream",
     "text": [
      "\u001b[34mBrazil, officially the Federative Republic of Brazil, is the largest and easternmost country in South America and Latin America.\n",
      "Brazil is the world's fifth-largest country by area and the seventh most populous.\n",
      "Its capital is Brasília, and its most populous city is São Paulo.\n",
      "Brazil is a federation composed of 26 states and a Federal District.\u001b[39m\n",
      "\u001b[32m\n",
      "Brazil is a federation composed of 26 states and a Federal District.\n",
      "It is the only country in the Americas where Portuguese is an official language.\n",
      "Brazil is among the world's most multicultural and ethnically diverse nations, due to over a century of mass immigration from around the world.\u001b[39m\n",
      "\u001b[34m\n",
      "Brazil is among the world's most multicultural and ethnically diverse nations, due to over a century of mass immigration from around the world.\n",
      "Bounded by the Atlantic Ocean on the east, Brazil has a coastline of 7,491 kilometers (4,655 mi).\n",
      "Covering roughly half of South America's land area, it borders all other countries and territories on the continent except Ecuador and Chile.\u001b[39m\n",
      "\u001b[32m\n",
      "Covering roughly half of South America's land area, it borders all other countries and territories on the continent except Ecuador and Chile.\n",
      "Brazil's Amazon basin includes a vast tropical forest home to diverse wildlife, a variety of ecological systems, and extensive natural resources spanning numerous protected habitats.\n",
      "This unique environmental heritage positions Brazil at number one of 17 megadiverse countries.\n",
      "The country's natural richness is also the subject of significant global interest, as environmental degradation (through processes such as deforestation) has direct impacts on global issues such as climate change and biodiversity loss.\n",
      "The territory of present-day Brazil was inhabited by numerous tribal nations prior to the landing of explorer Pedro Álvares Cabral in 1500.\u001b[39m\n",
      "\u001b[34m\n",
      "The territory of present-day Brazil was inhabited by numerous tribal nations prior to the landing of explorer Pedro Álvares Cabral in 1500.\n",
      "Subsequently claimed by the Portuguese Empire, Brazil remained a Portuguese colony until 1808, when the capital of the empire was transferred from Lisbon to Rio de Janeiro.\n",
      "In 1815, the colony was elevated to the rank of kingdom upon the formation of the United Kingdom of Portugal, Brazil and the Algarves.\n",
      "Independence was achieved in 1822 with the creation of the Empire of Brazil, a unitary state governed under a constitutional monarchy and a parliamentary system.\n",
      "The ratification of the first constitution in 1824 led to the formation of a bicameral legislature, now called the National Congress.\n",
      "Slavery was abolished in 1888.\u001b[39m\n",
      "\u001b[32m\n",
      "Slavery was abolished in 1888.\n",
      "The country became a presidential republic in 1889 following a military coup d'état.\n",
      "An authoritarian military dictatorship emerged in 1964 and ruled until 1985, after which civilian governance resumed.\n",
      "Brazil's current constitution, formulated in 1988, defines it as a democratic federal republic.\n",
      "Due to its rich culture and history, the country ranks thirteenth in the world by number of UNESCO World Heritage Sites.\u001b[39m\n",
      "\u001b[34m\n",
      "Due to its rich culture and history, the country ranks thirteenth in the world by number of UNESCO World Heritage Sites.\u001b[39m\n"
     ]
    }
   ],
   "source": [
    "print_chunks_coloured(chunks_with_overlap)"
   ]
  },
  {
   "cell_type": "markdown",
   "metadata": {},
   "source": [
    "# More examples of texts"
   ]
  },
  {
   "cell_type": "markdown",
   "metadata": {},
   "source": [
    "A piece from [Paul Graham's MIT essay](https://paulgraham.com/mit.html)\n",
    "This essay is very \"talkative\" and is a good way of testing how the algorithm deals with chatty texts. The text has been put into one big block on purpose to make the algorithm have full control over finding the semantic chunks."
   ]
  },
  {
   "cell_type": "code",
   "execution_count": 15,
   "metadata": {},
   "outputs": [],
   "source": [
    "input_text = \"\"\"Till recently graduating seniors had two choices: get a job or go to grad school. I think there will increasingly be a third option: to start your own startup. But how common will that be? I'm sure the default will always be to get a job, but starting a startup could well become as popular as grad school. In the late 90s my professor friends used to complain that they couldn't get grad students, because all the undergrads were going to work for startups. I wouldn't be surprised if that situation returns, but with one difference: this time they'll be starting their own instead of going to work for other people's. The most ambitious students will at this point be asking: Why wait till you graduate? Why not start a startup while you're in college? In fact, why go to college at all? Why not start a startup instead? A year and a half ago I gave a talk where I said that the average age of the founders of Yahoo, Google, and Microsoft was 24, and that if grad students could start startups, why not undergrads? I'm glad I phrased that as a question, because now I can pretend it wasn't merely a rhetorical one. At the time I couldn't imagine why there should be any lower limit for the age of startup founders. Graduation is a bureaucratic change, not a biological one. And certainly there are undergrads as competent technically as most grad students. So why shouldn't undergrads be able to start startups as well as grad students? I now realize that something does change at graduation: you lose a huge excuse for failing. Regardless of how complex your life is, you'll find that everyone else, including your family and friends, will discard all the low bits and regard you as having a single occupation at any given time. If you're in college and have a summer job writing software, you still read as a student. Whereas if you graduate and get a job programming, you'll be instantly regarded by everyone as a programmer. The problem with starting a startup while you're still in school is that there's a built-in escape hatch. If you start a startup in the summer between your junior and senior year, it reads to everyone as a summer job. So if it goes nowhere, big deal; you return to school in the fall with all the other seniors; no one regards you as a failure, because your occupation is student, and you didn't fail at that. Whereas if you start a startup just one year later, after you graduate, as long as you're not accepted to grad school in the fall the startup reads to everyone as your occupation. You're now a startup founder, so you have to do well at that. For nearly everyone, the opinion of one's peers is the most powerful motivator of all—more powerful even than the nominal goal of most startup founders, getting rich. [1] About a month into each funding cycle we have an event called Prototype Day where each startup presents to the others what they've got so far. You might think they wouldn't need any more motivation. They're working on their cool new idea; they have funding for the immediate future; and they're playing a game with only two outcomes: wealth or failure. You'd think that would be motivation enough. And yet the prospect of a demo pushes most of them into a rush of activity.\n",
    "\"\"\""
   ]
  },
  {
   "cell_type": "code",
   "execution_count": 16,
   "metadata": {},
   "outputs": [
    {
     "name": "stdout",
     "output_type": "stream",
     "text": [
      "\u001b[34mTill recently graduating seniors had two choices: get a job or go to grad school.\n",
      "I think there will increasingly be a third option: to start your own startup.\n",
      "But how common will that be?\n",
      "I'm sure the default will always be to get a job, but starting a startup could well become as popular as grad school.\n",
      "In the late 90s my professor friends used to complain that they couldn't get grad students, because all the undergrads were going to work for startups.\n",
      "I wouldn't be surprised if that situation returns, but with one difference: this time they'll be starting their own instead of going to work for other people's.\u001b[39m\n",
      "\u001b[32m\n",
      "The most ambitious students will at this point be asking: Why wait till you graduate?\n",
      "Why not start a startup while you're in college?\n",
      "In fact, why go to college at all?\n",
      "Why not start a startup instead?\u001b[39m\n",
      "\u001b[34m\n",
      "A year and a half ago I gave a talk where I said that the average age of the founders of Yahoo, Google, and Microsoft was 24, and that if grad students could start startups, why not undergrads?\n",
      "I'm glad I phrased that as a question, because now I can pretend it wasn't merely a rhetorical one.\u001b[39m\n",
      "\u001b[32m\n",
      "At the time I couldn't imagine why there should be any lower limit for the age of startup founders.\n",
      "Graduation is a bureaucratic change, not a biological one.\u001b[39m\n",
      "\u001b[34m\n",
      "And certainly there are undergrads as competent technically as most grad students.\n",
      "So why shouldn't undergrads be able to start startups as well as grad students?\n",
      "I now realize that something does change at graduation: you lose a huge excuse for failing.\u001b[39m\n",
      "\u001b[32m\n",
      "Regardless of how complex your life is, you'll find that everyone else, including your family and friends, will discard all the low bits and regard you as having a single occupation at any given time.\n",
      "If you're in college and have a summer job writing software, you still read as a student.\u001b[39m\n",
      "\u001b[34m\n",
      "Whereas if you graduate and get a job programming, you'll be instantly regarded by everyone as a programmer.\n",
      "The problem with starting a startup while you're still in school is that there's a built-in escape hatch.\u001b[39m\n",
      "\u001b[32m\n",
      "If you start a startup in the summer between your junior and senior year, it reads to everyone as a summer job.\n",
      "So if it goes nowhere, big deal; you return to school in the fall with all the other seniors; no one regards you as a failure, because your occupation is student, and you didn't fail at that.\n",
      "Whereas if you start a startup just one year later, after you graduate, as long as you're not accepted to grad school in the fall the startup reads to everyone as your occupation.\n",
      "You're now a startup founder, so you have to do well at that.\u001b[39m\n",
      "\u001b[34m\n",
      "For nearly everyone, the opinion of one's peers is the most powerful motivator of all—more powerful even than the nominal goal of most startup founders, getting rich.\n",
      "[1] About a month into each funding cycle we have an event called Prototype Day where each startup presents to the others what they've got so far.\u001b[39m\n",
      "\u001b[32m\n",
      "You might think they wouldn't need any more motivation.\n",
      "They're working on their cool new idea; they have funding for the immediate future; and they're playing a game with only two outcomes: wealth or failure.\n",
      "You'd think that would be motivation enough.\u001b[39m\n",
      "\u001b[34m\n",
      "And yet the prospect of a demo pushes most of them into a rush of activity.\u001b[39m\n"
     ]
    }
   ],
   "source": [
    "tokens = nltk.sent_tokenize(input_text, language=\"english\")\n",
    "\n",
    "tokens_for_embedding = create_sliding_windows(tokens)\n",
    "\n",
    "token_embeddings = calculate_embeddings(tokens_for_embedding)\n",
    "\n",
    "cos_similarities = calculate_similarities(token_embeddings)\n",
    "\n",
    "chunks = build_chunks(cos_similarities, tokens)\n",
    "\n",
    "print_chunks_coloured(chunks)"
   ]
  },
  {
   "cell_type": "markdown",
   "metadata": {},
   "source": [
    "A piece from [Greg Kamradt tutorial](https://github.com/FullStackRetrieval-com/RetrievalTutorials/blob/main/tutorials/LevelsOfTextSplitting/5_Levels_Of_Text_Splitting.ipynb).\n",
    "Pay close attention to how the chunker handles the \"*You know? (like this sentenence)*\". The text has been put into one big block on purpose to make the algorithm have full control over finding the semantic chunks."
   ]
  },
  {
   "cell_type": "code",
   "execution_count": 17,
   "metadata": {},
   "outputs": [],
   "source": [
    "input_text = \"\"\"Isn't it weird that we have a global constant for chunk size? Isn't it even weirder that our normal chunking mechanisms don't take into account the actual content? I'm not the only one who thinks so. There has to be a better way - let's explore and find out. Embeddings represent the semantic meaning of a string. They don't do much on their own, but when compared to embeddings of other texts you can start to infer the relationship between chunks. I want to lean into this property and explore using embeddings to find clusters of semantically similar texts. The hypothesis is that semantically similar chunks should be held together. I tried a few methods: Heirarchical clustering with positional reward - I wanted to see how heirarchical clustering of sentence embeddings would do. But because I chose to split on sentences, there was an issue with small short sentences after a long one. You know? (like this last sentence). They could change the meaning of a chunk, so I added a positional reward and clusters were more likely to form if they were sentences next to each other. This ended up being ok, but tuning the parameters was slow and unoptimal. Find break points between sequential sentences - Next up I tried a walk method. I started at the first sentence, got the embedding, then compared it to sentence #2, then compared #2 and #3 and so on. I was looking for \"break points\" where embedding distance was large. If it was above a threshold, then I considered it the start of a new semantic section. I originally tried taking embeddings of every sentence, but this turned out to be too noisy. So I ended up taking groups of 3 sentences (a window), then got an embedding, then dropped the first sentence, and added the next one. This worked out a bit better. I'll show method #2 here - It's not perfect by any means, but it's a good starting point for an exploration and I'd love to hear about how you think it could be improved. First, let's load up our essay that we'll run through. I'm just doing a single essay here to keep the tokens down.\n",
    "\"\"\"\n"
   ]
  },
  {
   "cell_type": "code",
   "execution_count": 18,
   "metadata": {},
   "outputs": [
    {
     "name": "stdout",
     "output_type": "stream",
     "text": [
      "\u001b[34mIsn't it weird that we have a global constant for chunk size?\n",
      "Isn't it even weirder that our normal chunking mechanisms don't take into account the actual content?\n",
      "I'm not the only one who thinks so.\u001b[39m\n",
      "\u001b[32m\n",
      "There has to be a better way - let's explore and find out.\n",
      "Embeddings represent the semantic meaning of a string.\u001b[39m\n",
      "\u001b[34m\n",
      "They don't do much on their own, but when compared to embeddings of other texts you can start to infer the relationship between chunks.\n",
      "I want to lean into this property and explore using embeddings to find clusters of semantically similar texts.\n",
      "The hypothesis is that semantically similar chunks should be held together.\u001b[39m\n",
      "\u001b[32m\n",
      "I tried a few methods: Heirarchical clustering with positional reward - I wanted to see how heirarchical clustering of sentence embeddings would do.\n",
      "But because I chose to split on sentences, there was an issue with small short sentences after a long one.\n",
      "You know?\u001b[39m\n",
      "\u001b[34m\n",
      "(like this last sentence).\n",
      "They could change the meaning of a chunk, so I added a positional reward and clusters were more likely to form if they were sentences next to each other.\n",
      "This ended up being ok, but tuning the parameters was slow and unoptimal.\u001b[39m\n",
      "\u001b[32m\n",
      "Find break points between sequential sentences - Next up I tried a walk method.\u001b[39m\n",
      "\u001b[34m\n",
      "I started at the first sentence, got the embedding, then compared it to sentence #2, then compared #2 and #3 and so on.\n",
      "I was looking for \"break points\" where embedding distance was large.\n",
      "If it was above a threshold, then I considered it the start of a new semantic section.\u001b[39m\n",
      "\u001b[32m\n",
      "I originally tried taking embeddings of every sentence, but this turned out to be too noisy.\n",
      "So I ended up taking groups of 3 sentences (a window), then got an embedding, then dropped the first sentence, and added the next one.\n",
      "This worked out a bit better.\u001b[39m\n",
      "\u001b[34m\n",
      "I'll show method #2 here - It's not perfect by any means, but it's a good starting point for an exploration and I'd love to hear about how you think it could be improved.\u001b[39m\n",
      "\u001b[32m\n",
      "First, let's load up our essay that we'll run through.\n",
      "I'm just doing a single essay here to keep the tokens down.\u001b[39m\n"
     ]
    }
   ],
   "source": [
    "tokens = nltk.sent_tokenize(input_text, language=\"english\")\n",
    "\n",
    "tokens_for_embedding = create_sliding_windows(tokens)\n",
    "\n",
    "token_embeddings = calculate_embeddings(tokens_for_embedding)\n",
    "\n",
    "cos_similarities = calculate_similarities(token_embeddings)\n",
    "\n",
    "chunks = build_chunks(cos_similarities, tokens)\n",
    "\n",
    "print_chunks_coloured(chunks)"
   ]
  }
 ],
 "metadata": {
  "kernelspec": {
   "display_name": "Python 3",
   "language": "python",
   "name": "python3"
  },
  "language_info": {
   "codemirror_mode": {
    "name": "ipython",
    "version": 3
   },
   "file_extension": ".py",
   "mimetype": "text/x-python",
   "name": "python",
   "nbconvert_exporter": "python",
   "pygments_lexer": "ipython3",
   "version": "3.11.9"
  }
 },
 "nbformat": 4,
 "nbformat_minor": 2
}
